{
 "cells": [
  {
   "cell_type": "markdown",
   "metadata": {},
   "source": [
    "## Robotics Tutorial\n",
    "**Get started with Python in Robotics**<br>\n",
    "Install all the required libraries and tools.\n",
    "```\n",
    "sudo apt-get install python3-pip\n",
    "sudo pip3 install jupyter\n",
    "sudo pip3 install numpy\n",
    "sudo pip3 install scipy\n",
    "sudo pip3 install matplotlib\n",
    "sudo pip3 install scikit-learn\n",
    "sudo pip3 install scikit-image\n",
    "\n",
    "```\n",
    "Once installed, lets get started with Python."
   ]
  },
  {
   "cell_type": "code",
   "execution_count": 4,
   "metadata": {},
   "outputs": [
    {
     "name": "stdout",
     "output_type": "stream",
     "text": [
      "Welcome to Robotics!\n"
     ]
    }
   ],
   "source": [
    "print(\"Welcome to Robotics!\")"
   ]
  },
  {
   "cell_type": "markdown",
   "metadata": {},
   "source": [
    "### Basic Operations in Python"
   ]
  },
  {
   "cell_type": "code",
   "execution_count": 5,
   "metadata": {},
   "outputs": [
    {
     "name": "stdout",
     "output_type": "stream",
     "text": [
      "a / b: 2.5\n",
      "float (a) / b: 2.5\n",
      "a / b: 2.5\n",
      "b: 8.0\n"
     ]
    }
   ],
   "source": [
    "#Assign integer values to a and b\n",
    "a = 5\n",
    "b = 2\n",
    "\n",
    "# Integer division \n",
    "a_devided_by_b = a / b\n",
    "print(\"a / b: {}\".format(a_devided_by_b))\n",
    "\n",
    "# Cast integer to float\n",
    "a_devided_by_b = float(a) / b\n",
    "print(\"float (a) / b: {}\".format(a_devided_by_b))\n",
    "\n",
    "# Or we can also define the variables as floating point instances by just setting\n",
    "b = 2.0\n",
    "a_devided_by_b = a / b\n",
    "print(\"a / b: {}\".format(a_devided_by_b))\n",
    "\n",
    "# b to the power of 3, re-assigned to b. (b = b^3)\n",
    "b **= 3\n",
    "print(\"b: {}\".format(b))"
   ]
  },
  {
   "cell_type": "markdown",
   "metadata": {},
   "source": [
    "Clone the repository \n",
    "```\n",
    "git clone https://github.com/akhilesh-k/PythonRobotics.git\n",
    "cd PythonRobotics\n",
    "jupyter-notebook\n",
    "\n",
    "```\n",
    "\n",
    "\n",
    "Your browser should start it in a new tab. Go to the Basic Exercise folder and open the notebook `introductory.ipynb`. You should now see this notebook in your browser."
   ]
  },
  {
   "cell_type": "markdown",
   "metadata": {},
   "source": [
    "### Loops\n",
    "### For Loop\n"
   ]
  },
  {
   "cell_type": "code",
   "execution_count": 6,
   "metadata": {},
   "outputs": [
    {
     "name": "stdout",
     "output_type": "stream",
     "text": [
      "0\n",
      "1\n",
      "2\n",
      "3\n",
      "4\n"
     ]
    }
   ],
   "source": [
    "#Commenting\n",
    "'''\n",
    "This is Multi Line comment\n",
    "We have started using for loop in python\n",
    "Much like a psuedo code, we will print 5 numbers. It starts from 0 so will end at 4.\n",
    "'''\n",
    "for i in range(5):\n",
    "    print(i)\n"
   ]
  },
  {
   "cell_type": "markdown",
   "metadata": {},
   "source": [
    "### While Loop"
   ]
  },
  {
   "cell_type": "code",
   "execution_count": null,
   "metadata": {},
   "outputs": [],
   "source": [
    "\n"
   ]
  }
 ],
 "metadata": {
  "kernelspec": {
   "display_name": "Python 3",
   "language": "python",
   "name": "python3"
  },
  "language_info": {
   "codemirror_mode": {
    "name": "ipython",
    "version": 3
   },
   "file_extension": ".py",
   "mimetype": "text/x-python",
   "name": "python",
   "nbconvert_exporter": "python",
   "pygments_lexer": "ipython3",
   "version": "3.6.3"
  }
 },
 "nbformat": 4,
 "nbformat_minor": 2
}
