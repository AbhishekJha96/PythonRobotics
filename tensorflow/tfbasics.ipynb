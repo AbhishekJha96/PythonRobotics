{
 "cells": [
  {
   "cell_type": "markdown",
   "metadata": {},
   "source": [
    "\n",
    "## TensorFlow Tutorials\n",
    "\n",
    "TensorFlow is an open source library for numerical computation using data flow graphs. Nodes in the graph represent mathematical operations, while the graph edges represent the multidimensional data arrays (tensors) communicated between them. The flexible architecture allows you to deploy computation on almost any platforms.\n",
    "\n",
    "### Programming Models for Deep Learning\n",
    "#### Symbolic v.s. Imperative style programs\n",
    "\n",
    "If you are a python or C++ programmer, then you are already familiar with imperative programs. Imperative style programs conduct the computation as we run them. Most of the code you write in python is imperative, for example:\n",
    "```ruby\n",
    "import numpy as np\n",
    "a = np.ones(10)\n",
    "b = np.ones(10) * 2\n",
    "c = b * a\n",
    "```\n",
    "Symbolic programs are different. The following lines are an equivalent symbolic style program that achieves the same goal:\n",
    "```ruby\n",
    "A = Variable()\n",
    "B = Constant()\n",
    "C = B * A\n",
    "#### compiles the function\n",
    "f = compile(C)\n",
    "#### run the function\n",
    "c = f.run(A=np.ones(10), B=np.ones(10)*2)\n",
    "```\n",
    "when C = B * A is executed, there is no actual computation happening. Instead, these operations generate a computation graph (symbolic graph) that represents the computation. Symbolic programs separates computation graph (1)definition, (2)compiling, and (3)running step.\n",
    "\n",
    "Generally speaking, imperative programs are more flexible, while symblic programs are more efficient (graph optimizations, better garbage collections).\n"
   ]
  },
  {
   "cell_type": "code",
   "execution_count": 6,
   "metadata": {},
   "outputs": [],
   "source": [
    "%matplotlib inline\n",
    "import matplotlib.pyplot as plt\n",
    "import numpy as np\n",
    "import tensorflow as tf"
   ]
  },
  {
   "cell_type": "raw",
   "metadata": {},
   "source": [
    "Get familiar with the following basic tensorflow methods:\n",
    "\n",
    "# define constant\n",
    "tf.Constant()\n",
    "\n",
    "# define trainable parameters\n",
    "tf.Variable()\n",
    "\n",
    "# holding mini-batch input data to the graph\n",
    "tf.placeholder()\n",
    "\n",
    "# common neural network layers\n",
    "tf.nn.*()\n",
    "\n",
    "# Launch the existing graph\n",
    "tf.Session()\n",
    "\n"
   ]
  },
  {
   "cell_type": "markdown",
   "metadata": {},
   "source": [
    "**Now let's first implement 'C=B*A' in TensorFlow!**"
   ]
  },
  {
   "cell_type": "code",
   "execution_count": 7,
   "metadata": {},
   "outputs": [
    {
     "name": "stdout",
     "output_type": "stream",
     "text": [
      "c: [array([ 2.,  2.,  2.,  2.,  2.,  2.,  2.,  2.,  2.,  2.], dtype=float32)]\n"
     ]
    }
   ],
   "source": [
    "# Define C=B*A in a symbolic way\n",
    "A = tf.Variable(tf.ones([10]))\n",
    "B = tf.constant(np.ones(10)*2, tf.float32)\n",
    "C = tf.multiply(A, B)\n",
    "init = tf.global_variables_initializer()\n",
    "\n",
    "# Launch the graph\n",
    "with tf.Session() as sess:\n",
    "    # initialize variables\n",
    "    sess.run(init)\n",
    "    # run the graph and evaluate C\n",
    "    c = sess.run([C])\n",
    "    print('c:', c)\n"
   ]
  },
  {
   "cell_type": "markdown",
   "metadata": {},
   "source": [
    "### Linear Regression example"
   ]
  },
  {
   "cell_type": "code",
   "execution_count": 9,
   "metadata": {},
   "outputs": [
    {
     "data": {
      "text/plain": [
       "[<matplotlib.lines.Line2D at 0x7fe85552ac18>]"
      ]
     },
     "execution_count": 9,
     "metadata": {},
     "output_type": "execute_result"
    },
    {
     "data": {
      "image/png": "[encoded data removed]",
      "text/plain": [
       "<matplotlib.figure.Figure at 0x7fe858e7fbe0>"
      ]
     },
     "metadata": {},
     "output_type": "display_data"
    }
   ],
   "source": [
    "# Generate ground truth 100 x, y data points in NumPy, y = 3.0 * x + 1.0\n",
    "# Regress for W and b that compute y_data = W * x_data + b\n",
    "x_data = np.random.rand(100).astype(np.float32)\n",
    "y_data = 3.0 * x_data + 1.0\n",
    "plt.plot(x_data, y_data)"
   ]
  },
  {
   "cell_type": "code",
   "execution_count": 10,
   "metadata": {},
   "outputs": [],
   "source": [
    "# define trainable variables\n",
    "W = tf.Variable(tf.random_uniform([1], -1.0, 1.0))\n",
    "b = tf.Variable(tf.zeros([1]))"
   ]
  },
  {
   "cell_type": "code",
   "execution_count": 11,
   "metadata": {},
   "outputs": [],
   "source": [
    "# define graph operations\n",
    "y = tf.multiply(W, x_data) + b"
   ]
  },
  {
   "cell_type": "code",
   "execution_count": 12,
   "metadata": {},
   "outputs": [],
   "source": [
    "# define loss, L2\n",
    "loss = tf.reduce_mean(tf.square(y - y_data))\n"
   ]
  },
  {
   "cell_type": "code",
   "execution_count": 13,
   "metadata": {},
   "outputs": [],
   "source": [
    "# define optimizer for training\n",
    "train_optimizer = tf.train.GradientDescentOptimizer(learning_rate=0.5).minimize(loss)\n"
   ]
  },
  {
   "cell_type": "code",
   "execution_count": 14,
   "metadata": {},
   "outputs": [],
   "source": [
    "# define the operation that initializes variables\n",
    "init = tf.global_variables_initializer()"
   ]
  },
  {
   "cell_type": "code",
   "execution_count": 15,
   "metadata": {},
   "outputs": [
    {
     "name": "stdout",
     "output_type": "stream",
     "text": [
      "0 [ 0.55293965] [ 0.]\n",
      "20 [ 2.62627387] [ 1.21008098]\n",
      "40 [ 2.90248704] [ 1.05481446]\n",
      "60 [ 2.97455668] [ 1.01430225]\n",
      "80 [ 2.99336123] [ 1.00373185]\n",
      "99 [ 2.99814749] [ 1.00104129]\n"
     ]
    }
   ],
   "source": [
    "# Launch the graph\n",
    "with tf.Session() as sess:\n",
    "    # initialization\n",
    "    sess.run(init)\n",
    "\n",
    "    # starting training\n",
    "    training_iters = 100\n",
    "    for step in range(training_iters):\n",
    "        if step % 20 == 0 or (step+1)==training_iters:\n",
    "            print(step, sess.run(W), sess.run(b))\n",
    "            \n",
    "        # run optimizer during training\n",
    "        _ = sess.run([train_optimizer])"
   ]
  },
  {
   "cell_type": "code",
   "execution_count": null,
   "metadata": {},
   "outputs": [],
   "source": []
  }
 ],
 "metadata": {
  "kernelspec": {
   "display_name": "Python 3",
   "language": "python",
   "name": "python3"
  },
  "language_info": {
   "codemirror_mode": {
    "name": "ipython",
    "version": 3
   },
   "file_extension": ".py",
   "mimetype": "text/x-python",
   "name": "python",
   "nbconvert_exporter": "python",
   "pygments_lexer": "ipython3",
   "version": "3.6.3"
  }
 },
 "nbformat": 4,
 "nbformat_minor": 2
}
